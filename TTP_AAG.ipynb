{
 "cells": [
  {
   "cell_type": "code",
   "execution_count": 96,
   "metadata": {},
   "outputs": [],
   "source": [
    "import numpy as np\n",
    "import matplotlib.pyplot as plt\n",
    "import pandas as pd\n",
    "from stix2.v21 import (ThreatActor, Identity, AttackPattern, Campaign, IntrusionSet, Relationship, ExternalReference, Bundle, Grouping)\n",
    "from efficient_apriori import apriori\n",
    "import re\n",
    "from pyattck import Attck\n",
    "import requests\n",
    "import json\n",
    "from stix2 import MemoryStore, Filter\n",
    "from neo4j import GraphDatabase"
   ]
  },
  {
   "cell_type": "code",
   "execution_count": 97,
   "metadata": {},
   "outputs": [],
   "source": [
    "# Settings Values - for Apriori Algorithm\n",
    "# TODO - 2: Do we need to adjust these numbers, in order to refine our algorithm metrics??\n",
    "confidenceLevel = 0.70\n",
    "supportLevel = 0.05\n",
    "abstract = False"
   ]
  },
  {
   "cell_type": "code",
   "execution_count": 98,
   "metadata": {},
   "outputs": [],
   "source": [
    "def NameToCode(gName):\n",
    "    # create an instance of the Attck class\n",
    "    attck = Attck()\n",
    "\n",
    "    # get all APT groups in the framework\n",
    "    apt_groups = attck.enterprise.actors\n",
    "\n",
    "    # create a dictionary mapping APT group names to G codes\n",
    "    group_to_gcode = {}\n",
    "    for group in apt_groups:\n",
    "        if group.name == gName:\n",
    "            gcode = group.id\n",
    "            return gcode\n",
    "    return \"nerd\"\n"
   ]
  },
  {
   "cell_type": "code",
   "execution_count": 99,
   "metadata": {},
   "outputs": [],
   "source": [
    "def GenerateTestSet():\n",
    "    df = pd.read_csv(\"datasets/Categorized_Adversary_TTPs.csv\").loc[:, ['mitre_attack_name', 'mitre_attack_ttps']] # sample dataset of attacks\n",
    "    test_threat_profiles = {}\n",
    "    for row in df.values:\n",
    "        gcode = NameToCode(row[0].strip())\n",
    "        test_threat_profiles[gcode] = row[1].strip('][').split(', ')\n",
    "    return test_threat_profiles\n",
    "    \n",
    "def GenerateAprioriLists():\n",
    "    # TODO - 2: Do we need to retrain this data on a new dataset? How can we do this?\n",
    "    #Data from Scott at Tidal Cyber\n",
    "    ttpLists = []\n",
    "    df1 = json.load(open(\"datasets/TidalCyberData/otx_running.json\")) [1:]\n",
    "    for row in df1:\n",
    "        if len(row[7]) > 0 and type(row[7]) == type([]):\n",
    "            ttpLists.append([\"'\" + ttp + \"'\" for ttp in row[7]])\n",
    "    \n",
    "    df2 = json.load(open(\"datasets/TidalCyberData/Tidal OSINT Technique Extraction.json\"))\n",
    "    for row in df2:\n",
    "        if len(row['Tidal Extracted Techniques']) > 0:\n",
    "            ttpLists.append([\"'\" + ttp2 + \"'\" for ttp2 in row['Tidal Extracted Techniques']])\n",
    "    # Some data comes from this dataset with TTPs\n",
    "\n",
    "    # More data is gained by using attck data from tool and malware TTPs\n",
    "    attack = Attck()\n",
    "    \n",
    "    malwares = attack.enterprise.malwares + attack.enterprise.tools\n",
    "    \n",
    "    for malware in malwares:\n",
    "        ttpLists.append([\"'\" + ttp.id + \"'\" for ttp in malware.techniques])\n",
    "\n",
    "    # To use the apriori we need to generate a list of lists\n",
    "    aprList = ttpLists\n",
    "    # for row in df3.values:\n",
    "    #     aprList.append((row[13].strip('][').split(', ')))\n",
    "    \n",
    "    # get rid of empty sets\n",
    "    return [ttp for ttp in aprList if len(ttp) > 1]"
   ]
  },
  {
   "cell_type": "code",
   "execution_count": 100,
   "metadata": {},
   "outputs": [],
   "source": [
    "def AbstractTTPs(ttpList):\n",
    "    # Take sub-techniques and remove the .### to abstract them to parent techniques \n",
    "    for i in range(0,len(ttpList)):\n",
    "        ttpList[i] = [re.sub(r'\\.[0-9]+', '', ttp) for ttp in ttpList[i]]\n",
    "    return ttpList "
   ]
  },
  {
   "cell_type": "code",
   "execution_count": 101,
   "metadata": {},
   "outputs": [],
   "source": [
    "# takes a list of lists and returns a list of rules sorted by size \n",
    "def AprioriMining(aprList):\n",
    "    # Perform apriori rule association mining\n",
    "    itemsets, rules = apriori(aprList, min_support=supportLevel, min_confidence=confidenceLevel)\n",
    "    \n",
    "    # Sort by size to get the 1:1 mappings first and so on. \n",
    "    ruleNums = np.array([len(rule.lhs+rule.rhs) for rule in rules])\n",
    "    rules = np.array(rules)\n",
    "    inds = ruleNums.argsort()[::]\n",
    "    rules = rules[inds]\n",
    "    \n",
    "    # Maximum rule size of 4 to limit number of rules, any rules with size > 4 are redundant anyways\n",
    "    rules = [x for x in filter(lambda rule: len(rule.lhs+rule.rhs) <= 4, rules)]\n",
    "    return rules"
   ]
  },
  {
   "cell_type": "code",
   "execution_count": 102,
   "metadata": {},
   "outputs": [],
   "source": [
    "# Downloads latest MITRE framework from the branch\n",
    "def get_data_from_branch(domain):\n",
    "    \"\"\"get the ATT&CK STIX data from MITRE/CTI. Domain should be 'enterprise-attack', 'mobile-attack' or 'ics-attack'. Branch should typically be master.\"\"\"\n",
    "    stix_json = requests.get(f\"https://raw.githubusercontent.com/mitre-attack/attack-stix-data/master/{domain}/{domain}.json\").json()\n",
    "    return MemoryStore(stix_data=stix_json[\"objects\"])\n",
    "\n",
    "src = get_data_from_branch(\"enterprise-attack\")"
   ]
  },
  {
   "cell_type": "code",
   "execution_count": 103,
   "metadata": {},
   "outputs": [],
   "source": [
    "# Get TTPs from seed, where seed is an APT group code: GXXXX\n",
    "def ExtractSeedTTPs(seed):\n",
    "    seeds = []\n",
    "    # This runs but says that \"actors\" is not found\n",
    "    actor = actors[seed]\n",
    "    for ttp in actor.techniques:\n",
    "        seeds.append(ttp.id)\n",
    "        \n",
    "    # If we are using abstracted TTPs then remove sub technique\n",
    "    if (abstract):\n",
    "        for i in range(0, len(seeds)):\n",
    "            seeds[i] = re.sub(r'\\.[0-9]+', '', seeds[i])\n",
    "    return seeds"
   ]
  },
  {
   "cell_type": "code",
   "execution_count": 104,
   "metadata": {},
   "outputs": [],
   "source": [
    "def ExportBundle(bundle, filename):\n",
    "    with open(filename, \"w\") as f:\n",
    "        f.write(bundle.serialize())\n",
    "        f.close()"
   ]
  },
  {
   "cell_type": "code",
   "execution_count": 105,
   "metadata": {},
   "outputs": [],
   "source": [
    "# Each rule has a confidence, lift, support, lhs, rhs, conviction, rule power factor (RPF), \n",
    "\n",
    "# Takes an APTGroup and generates hypothesized relationships and attack pattern objects\n",
    "# Returns a tuple of: (profile, attackPatterns, relationships, attackPatterns)\n",
    "def CreateRelationships(seeds, aprioriLists):\n",
    "    profile = {} #stores the TTP and tactic for easy logging\n",
    "    seen = [] #stores TTPs that have been seen by the algorithm\n",
    "    attackPatterns = {} #stores generated attack pattern objects\n",
    "    relationships = {} # stores generated relationship objects\n",
    "    # attackPatterns = {} # stores generated grouping objects\n",
    "\n",
    "    # Get seeds out of the APT group\n",
    "    # seeds = ExtractSeedTTPs(APTGroup)\n",
    "    # seeds = [\"T1566\", \"T1204\"]\n",
    "    \n",
    "    # Perform Association Rule Mining\n",
    "    rules = AprioriMining(aprioriLists) \n",
    "    \n",
    "    # Add seeds to activity-attack-graph as nodes\n",
    "    for seed in seeds:\n",
    "        profile[seed] = 1\n",
    "        # Get the stix object for the TTP\n",
    "        ttp = src.query([ Filter(\"external_references.external_id\", \"=\", seed) ])[0]\n",
    "        \n",
    "        # Create and add objects to lists, context is used to identify seeds from hypothesized events\n",
    "        attackPatterns[seed] = src.query([ Filter(\"external_references.external_id\", \"=\", seed) ])[0]\n",
    "    \n",
    "    # print(profile)\n",
    "    \n",
    "    seedTotals = [\"'\"+x+\"'\" for x in seeds]\n",
    "    # Use a queue to iterate through and create a tree of TTPs\n",
    "    while len(seeds) > 0:\n",
    "        for rule in rules:\n",
    "            # Check to see if the left hand side of a rule is satisfied \n",
    "            if \"'\"+seeds[0]+\"'\" in rule.lhs and set(rule.lhs).issubset(seedTotals):\n",
    "                # If the lhs is satisfied, then loop through each TTP in the rhs \n",
    "                for ttpName in rule.rhs:\n",
    "                    # If this TTP hasn't been visited already then create STIX objects\n",
    "                    if ttpName not in seen:\n",
    "                        ttp = src.query([ Filter(\"external_references.external_id\", \"=\", ttpName[1:-1]) ])[0]\n",
    "                        \n",
    "                        # rule tactics \n",
    "                        tactics = []\n",
    "                        for i in ttp['kill_chain_phases']:\n",
    "                            tactics.append(i['phase_name'])\n",
    "                        \n",
    "                        # create a new grouping object with the rule name. \n",
    "                        \n",
    "                        attackPatterns[ttpName[1:-1]] = ttp\n",
    "                        seedTotals.append(ttpName)\n",
    "                        seen.append(ttpName)\n",
    "                        seeds.append(ttp['external_references'][0]['external_id'])\n",
    "\n",
    "                    # if the relationship already exists between two objects then we take the one with higher confidence\n",
    "                    # make sure the exact relationship does not alraedy exist\n",
    "                    if not (attackPatterns[seeds[0]]['id'], attackPatterns[ttpName[1:-1]]['id']) in relationships:\n",
    "                        # if the opposite relationship exists then choose the one with the highest confidence to add\n",
    "                        # we do this because if we do not then on the graph there will be two arrows going opposite directions to connect the same 2 TTPs\n",
    "                        # this causes clutter and makes the confidence values unreadable since they will be layered on top of each other\n",
    "                        if (attackPatterns[ttpName[1:-1]]['id'], attackPatterns[seeds[0]]['id']) in relationships:\n",
    "                            # if existing relationship has higher confidence, move on\n",
    "                            if float(relationships[(attackPatterns[ttpName[1:-1]]['id'], attackPatterns[seeds[0]]['id'])]['relationship_type']) > rule.confidence:\n",
    "                                continue # move to next iteration of for loop, so code after this statement won't execute\n",
    "                            # if existing relationship has lower confidence, delete it and let the new relationship take it's place\n",
    "                            else:\n",
    "                                del relationships[(attackPatterns[ttpName[1:-1]]['id'], attackPatterns[seeds[0]]['id'])]\n",
    "                        relationships[(attackPatterns[seeds[0]]['id'], attackPatterns[ttpName[1:-1]]['id'])] = Relationship(attackPatterns[seeds[0]]['id'], str(round(rule.confidence, 3)), attackPatterns[ttpName[1:-1]]['id'])\n",
    "                        if not((ttpName[1:-1] in profile.keys() and profile[ttpName[1:-1]] >= 1)):\n",
    "                            profile[ttpName[1:-1]] = round(rule.confidence, 3)\n",
    " \n",
    "        # pop to progress the queue\n",
    "        seeds.pop(0) \n",
    "    \n",
    "    for seed in seeds:\n",
    "        profile[seed] = 1\n",
    "        \n",
    "\n",
    "    return (profile, attackPatterns, relationships)"
   ]
  },
  {
   "cell_type": "code",
   "execution_count": 106,
   "metadata": {},
   "outputs": [],
   "source": [
    "aprioriList = AbstractTTPs(GenerateAprioriLists()) # generate lists for apriori"
   ]
  },
  {
   "cell_type": "code",
   "execution_count": 107,
   "metadata": {},
   "outputs": [],
   "source": [
    "# \n",
    "intelSeed = [\"T1566\", \"T1204\"] # Use-case: Observed TTPs\n",
    "profile, attackPatterns, relationships = CreateRelationships(intelSeed, aprioriList)"
   ]
  },
  {
   "cell_type": "code",
   "execution_count": 108,
   "metadata": {},
   "outputs": [
    {
     "name": "stdout",
     "output_type": "stream",
     "text": [
      "{('attack-pattern--a62a8db3-f23a-4d8f-afd6-9dbc77e7813b', 'attack-pattern--7385dfaf-6886-4229-9ecd-6fd678040830'): Relationship(type='relationship', spec_version='2.1', id='relationship--132da23f-b97b-4c08-94b0-ddbf45267b24', created='2023-04-01T15:15:16.226225Z', modified='2023-04-01T15:15:16.226225Z', relationship_type='0.7', source_ref='attack-pattern--a62a8db3-f23a-4d8f-afd6-9dbc77e7813b', target_ref='attack-pattern--7385dfaf-6886-4229-9ecd-6fd678040830', revoked=False), ('attack-pattern--355be19c-ffc9-46d5-8d50-d6a036c675b6', 'attack-pattern--7385dfaf-6886-4229-9ecd-6fd678040830'): Relationship(type='relationship', spec_version='2.1', id='relationship--1fc3f38c-7793-4d0c-a3bf-cd0d458493b4', created='2023-04-01T15:15:16.640245Z', modified='2023-04-01T15:15:16.640245Z', relationship_type='0.817', source_ref='attack-pattern--355be19c-ffc9-46d5-8d50-d6a036c675b6', target_ref='attack-pattern--7385dfaf-6886-4229-9ecd-6fd678040830', revoked=False), ('attack-pattern--355be19c-ffc9-46d5-8d50-d6a036c675b6', 'attack-pattern--8c32eb4d-805f-4fc5-bf60-c4d476c131b5'): Relationship(type='relationship', spec_version='2.1', id='relationship--b084e93b-98b3-401a-a3a0-612f61c60e29', created='2023-04-01T15:15:16.640461Z', modified='2023-04-01T15:15:16.640461Z', relationship_type='0.881', source_ref='attack-pattern--355be19c-ffc9-46d5-8d50-d6a036c675b6', target_ref='attack-pattern--8c32eb4d-805f-4fc5-bf60-c4d476c131b5', revoked=False), ('attack-pattern--8c32eb4d-805f-4fc5-bf60-c4d476c131b5', 'attack-pattern--7385dfaf-6886-4229-9ecd-6fd678040830'): Relationship(type='relationship', spec_version='2.1', id='relationship--c604946a-9b1f-4fee-9a2d-64b8471c815c', created='2023-04-01T15:15:16.641369Z', modified='2023-04-01T15:15:16.641369Z', relationship_type='0.717', source_ref='attack-pattern--8c32eb4d-805f-4fc5-bf60-c4d476c131b5', target_ref='attack-pattern--7385dfaf-6886-4229-9ecd-6fd678040830', revoked=False), ('attack-pattern--b3d682b6-98f2-4fb0-aa3b-b4df007ca70a', 'attack-pattern--7385dfaf-6886-4229-9ecd-6fd678040830'): Relationship(type='relationship', spec_version='2.1', id='relationship--852833dc-5e8b-4e7b-a8ce-c52c9f6d6460', created='2023-04-01T15:15:16.642196Z', modified='2023-04-01T15:15:16.642196Z', relationship_type='0.757', source_ref='attack-pattern--b3d682b6-98f2-4fb0-aa3b-b4df007ca70a', target_ref='attack-pattern--7385dfaf-6886-4229-9ecd-6fd678040830', revoked=False), ('attack-pattern--b3d682b6-98f2-4fb0-aa3b-b4df007ca70a', 'attack-pattern--8c32eb4d-805f-4fc5-bf60-c4d476c131b5'): Relationship(type='relationship', spec_version='2.1', id='relationship--c4b268db-b157-48b0-9d52-538fc62b4a41', created='2023-04-01T15:15:16.642399Z', modified='2023-04-01T15:15:16.642399Z', relationship_type='0.726', source_ref='attack-pattern--b3d682b6-98f2-4fb0-aa3b-b4df007ca70a', target_ref='attack-pattern--8c32eb4d-805f-4fc5-bf60-c4d476c131b5', revoked=False), ('attack-pattern--b3d682b6-98f2-4fb0-aa3b-b4df007ca70a', 'attack-pattern--354a7f88-63fb-41b5-a801-ce3b377b36f1'): Relationship(type='relationship', spec_version='2.1', id='relationship--1ea9a912-8dce-46e0-ae74-9a2957b90224', created='2023-04-01T15:15:16.642722Z', modified='2023-04-01T15:15:16.642722Z', relationship_type='0.706', source_ref='attack-pattern--b3d682b6-98f2-4fb0-aa3b-b4df007ca70a', target_ref='attack-pattern--354a7f88-63fb-41b5-a801-ce3b377b36f1', revoked=False), ('attack-pattern--b3d682b6-98f2-4fb0-aa3b-b4df007ca70a', 'attack-pattern--355be19c-ffc9-46d5-8d50-d6a036c675b6'): Relationship(type='relationship', spec_version='2.1', id='relationship--5f9ff580-116b-40ce-b98a-9b178d915071', created='2023-04-01T15:15:16.64291Z', modified='2023-04-01T15:15:16.64291Z', relationship_type='0.75', source_ref='attack-pattern--b3d682b6-98f2-4fb0-aa3b-b4df007ca70a', target_ref='attack-pattern--355be19c-ffc9-46d5-8d50-d6a036c675b6', revoked=False), ('attack-pattern--354a7f88-63fb-41b5-a801-ce3b377b36f1', 'attack-pattern--7385dfaf-6886-4229-9ecd-6fd678040830'): Relationship(type='relationship', spec_version='2.1', id='relationship--4214d078-eae6-4655-b4e4-1000a202339d', created='2023-04-01T15:15:16.643164Z', modified='2023-04-01T15:15:16.643164Z', relationship_type='0.717', source_ref='attack-pattern--354a7f88-63fb-41b5-a801-ce3b377b36f1', target_ref='attack-pattern--7385dfaf-6886-4229-9ecd-6fd678040830', revoked=False), ('attack-pattern--354a7f88-63fb-41b5-a801-ce3b377b36f1', 'attack-pattern--8c32eb4d-805f-4fc5-bf60-c4d476c131b5'): Relationship(type='relationship', spec_version='2.1', id='relationship--ead0fd01-c87c-48c0-8f9d-546fd13ee99b', created='2023-04-01T15:15:16.643356Z', modified='2023-04-01T15:15:16.643356Z', relationship_type='0.833', source_ref='attack-pattern--354a7f88-63fb-41b5-a801-ce3b377b36f1', target_ref='attack-pattern--8c32eb4d-805f-4fc5-bf60-c4d476c131b5', revoked=False), ('attack-pattern--354a7f88-63fb-41b5-a801-ce3b377b36f1', 'attack-pattern--355be19c-ffc9-46d5-8d50-d6a036c675b6'): Relationship(type='relationship', spec_version='2.1', id='relationship--0ed62b4a-90a4-4c0b-879b-e42cd434a308', created='2023-04-01T15:15:16.643698Z', modified='2023-04-01T15:15:16.643698Z', relationship_type='0.763', source_ref='attack-pattern--354a7f88-63fb-41b5-a801-ce3b377b36f1', target_ref='attack-pattern--355be19c-ffc9-46d5-8d50-d6a036c675b6', revoked=False)}\n"
     ]
    }
   ],
   "source": [
    "# Displays the results of the Apiori Algorithm \n",
    "print(relationships)\n",
    "\n",
    "# This is the hypothesized profile\n",
    "apt_x = profile"
   ]
  },
  {
   "cell_type": "code",
   "execution_count": 109,
   "metadata": {},
   "outputs": [
    {
     "name": "stdout",
     "output_type": "stream",
     "text": [
      "{'T1114': 1, 'T1078': 1, 'T1566': 1, 'T1056': 1, 'T1204': 1, 'T1059': 1, 'T1564': 1, 'T1071': 1, 'T1090': 1}\n",
      "{'T1114': 1, 'T1078': 1, 'T1566': 1, 'T1056': 1, 'T1204': 1, 'T1059': 1, 'T1564': 1, 'T1071': 1, 'T1090': 1, 'T1027': 0.719, 'T1082': 0.778, 'T1083': 0.704}\n"
     ]
    }
   ],
   "source": [
    "# Phase 2: Make APT Threat Profiles\n",
    "attack = Attck()\n",
    "\n",
    "# Dictionary to hold all the threat profiles. \n",
    "# The key is a given APT and the values are a list of TTPs\n",
    "threat_profiles = {}\n",
    "\n",
    "for actor in attack.enterprise.actors:\n",
    "    technique_dict = {}\n",
    "    for technique in actor.techniques:\n",
    "        technique_dict[technique.id[0:5]] = 1\n",
    "    threat_profiles[actor.id] = technique_dict\n",
    "    \n",
    "# TODO: Add extended_threat profiles\n",
    "# Create threatprofile Seed -- need to parse the value of the keys.\n",
    "extended_threat_profiles = {}\n",
    "for apt, t_codes in threat_profiles.items():\n",
    "    ttp_list = list(t_codes.keys())\n",
    "    profile, attackPatterns, relationships = CreateRelationships(ttp_list, aprioriList)\n",
    "    extended_threat_profiles[apt] = profile\n",
    "\n",
    "print(extended_threat_profiles[\"G0085\"])\n",
    "\n",
    "# TODO: Add progress bar??\n"
   ]
  },
  {
   "cell_type": "code",
   "execution_count": 110,
   "metadata": {},
   "outputs": [],
   "source": [
    "# Phase 2: WEIGHTED JACCARD SIMILARITY\n",
    "# Side note: Find a way to relate techniques and sub-techniques. \n",
    "\n",
    "# TODO: Create a function that compares two threat profiles and produces a Weighted Jaccard. Just returns a number. \n",
    "def weighted_jac (profile1, profile2):\n",
    "\n",
    "    # Extract the keys as sets\n",
    "    keys1 = set(profile1.keys())\n",
    "    keys2 = set(profile2.keys())\n",
    "\n",
    "    # Calculate the Jaccard index\n",
    "    # Only need the normal intersection and union\n",
    "    intersection = keys1.intersection(keys2)\n",
    "    union = keys1.union(keys2)\n",
    "    # jaccard_index = len(intersection) / len(union)\n",
    "\n",
    "    # Weight the Jaccard index by the values in the dictionaries\n",
    "    weighted_intersection = sum(min(profile1[k], profile2[k]) for k in intersection)\n",
    "    weighted_union = sum(max(profile1.get(k, 0), profile2.get(k, 0)) for k in union)\n",
    "    weighted_jaccard_index = weighted_intersection / weighted_union\n",
    "    \n",
    "    return weighted_jaccard_index\n",
    "    #print(\"Weighted Jaccard index:\", weighted_jaccard_index)\n"
   ]
  },
  {
   "cell_type": "code",
   "execution_count": 111,
   "metadata": {},
   "outputs": [],
   "source": [
    "# TODO: Create another function that calls the previous function on all of the threat profiles and our threat profile of interest.\n",
    "# We could do some sort of ranking like list the APTs with the highest Weighted Jaccard first. \n",
    "def compare_apt(h_threatprofile, threat_profiles):\n",
    "    # Make another dictionary \n",
    "    rankings = {}\n",
    "    \n",
    "    for key, value in threat_profiles.items(): \n",
    "        similarity  = (weighted_jac(value, h_threatprofile)) * 100\n",
    "        percentage = round(similarity, 2)\n",
    "        rankings[key] = percentage\n",
    "    \n",
    "    return rankings"
   ]
  },
  {
   "cell_type": "code",
   "execution_count": 112,
   "metadata": {},
   "outputs": [
    {
     "name": "stdout",
     "output_type": "stream",
     "text": [
      "{'G0013': 99.73, 'G0103': 92.97, 'G0062': 79.06, 'G0084': 64.97, 'G0005': 61.99, 'G0133': 59.01, 'G0066': 58.58, 'G0075': 58.16, 'G0137': 56.31, 'G0130': 55.45, 'G0136': 54.24, 'G0079': 53.32, 'G0048': 49.45, 'G0089': 48.12, 'G0099': 46.22, 'G0095': 44.69, 'G0085': 43.67, 'G0090': 42.26, 'G0127': 41.66, 'G0115': 38.72, 'G0070': 36.88, 'G0120': 36.65, 'G1003': 36.16, 'G0098': 35.69, 'G0140': 35.65, 'G1011': 35.21, 'G0086': 34.28, 'G0134': 34.27, 'G0021': 34.09, 'G0107': 33.46, 'G0018': 32.51, 'G0138': 32.2, 'G0112': 31.69, 'G0068': 31.41, 'G1007': 29.88, 'G1008': 29.61, 'G0142': 29.26, 'G0078': 28.99, 'G0019': 28.81, 'G0131': 28.62, 'G0056': 28.34, 'G1002': 27.9, 'G0073': 26.1, 'G0043': 24.72, 'G0071': 24.0, 'G0001': 23.47, 'G0100': 22.83, 'G0033': 22.36, 'G0026': 22.25, 'G0054': 21.82, 'G0128': 21.39, 'G0121': 21.27, 'G0012': 20.72, 'G0124': 20.33, 'G0009': 20.31, 'G0064': 19.77, 'G0126': 19.46, 'G0119': 19.24, 'G0092': 18.68, 'G1009': 18.42, 'G0006': 18.41, 'G0143': 18.0, 'G0061': 17.9, 'G0067': 17.84, 'G0051': 17.79, 'G0091': 17.35, 'G0024': 17.33, 'G0080': 17.29, 'G0077': 16.23, 'G0038': 16.2, 'G0135': 15.11, 'G0083': 14.88, 'G0046': 14.69, 'G0129': 14.39, 'G0081': 14.39, 'G0088': 14.27, 'G0040': 14.24, 'G0060': 14.17, 'G0082': 14.1, 'G0002': 13.61, 'G0063': 13.61, 'G0037': 13.6, 'G0065': 13.49, 'G0125': 13.46, 'G1006': 13.12, 'G0044': 13.02, 'G0108': 12.83, 'G1001': 12.75, 'G0102': 12.46, 'G0045': 12.38, 'G0036': 12.09, 'G0022': 12.0, 'G0087': 11.85, 'G0047': 11.65, 'G0049': 11.43, 'G0069': 10.94, 'G0059': 10.87, 'G0010': 10.19, 'G0027': 10.11, 'G0035': 9.92, 'G0106': 9.42, 'G0096': 9.34, 'G0139': 9.27, 'G0093': 9.0, 'G0028': 8.77, 'G0076': 8.77, 'G0050': 8.62, 'G0034': 8.33, 'G0117': 8.05, 'G0039': 7.81, 'G0094': 7.77, 'G0004': 7.61, 'G0007': 7.32, 'G0016': 7.3, 'G0052': 6.42, 'G0118': 6.29, 'G0032': 6.27, 'G0114': 5.78, 'G0008': 5.56, 'G0053': 5.06, 'G0105': 5.06, 'G1004': 3.35, 'G0014': 0.0, 'G0122': 0.0, 'G0031': 0.0, 'G0003': 0.0, 'G0072': 0.0, 'G0132': 0.0, 'G0104': 0.0, 'G0020': 0.0, 'G0074': 0.0, 'G0116': 0.0, 'G0011': 0.0, 'G0141': 0.0, 'G0101': 0.0, 'G1005': 0.0, 'G0029': 0.0, 'G0041': 0.0, 'G0015': 0.0, 'G0055': 0.0, 'G0123': 0.0, 'G0017': 0.0, 'G0023': 0.0, 'G0030': 0.0, 'G0025': 0.0, 'G0042': 0.0, 'G0057': 0.0}\n"
     ]
    }
   ],
   "source": [
    "compare_apt_dict = compare_apt(apt_x, extended_threat_profiles)\n",
    "\n",
    "# SORTED -- NICE!\n",
    "sorted_dict = dict(sorted(compare_apt_dict.items(), key=lambda x: x[1], reverse=True))\n",
    "print(sorted_dict)\n"
   ]
  },
  {
   "cell_type": "code",
   "execution_count": 113,
   "metadata": {},
   "outputs": [
    {
     "data": {
      "image/png": "[encoded data removed]",
      "text/plain": [
       "<Figure size 640x480 with 1 Axes>"
      ]
     },
     "metadata": {},
     "output_type": "display_data"
    }
   ],
   "source": [
    "# Make some sort of visualization\n",
    "import matplotlib.pyplot as plt\n",
    "\n",
    "# Example dictionary\n",
    "data = sorted_dict\n",
    "\n",
    "# Extract keys and values from dictionary\n",
    "labels = list(data.keys())\n",
    "values = list(data.values())\n",
    "\n",
    "# Create a bar chart using matplotlib\n",
    "plt.bar(labels, values)\n",
    "\n",
    "# Set chart title and axis labels\n",
    "plt.title('APT THANGS')\n",
    "plt.xlabel('APTs')\n",
    "plt.ylabel('Similarity (%)')\n",
    "\n",
    "# Display the chart\n",
    "plt.show()\n"
   ]
  },
  {
   "cell_type": "code",
   "execution_count": 114,
   "metadata": {},
   "outputs": [],
   "source": [
    "# Write the dictionary to a JSON file\n",
    "import json\n",
    "\n",
    "with open(\"Extended_Threat_Profiles\", \"w\") as outfile:\n",
    "    json.dump(extended_threat_profiles, outfile)"
   ]
  },
  {
   "cell_type": "code",
   "execution_count": 115,
   "metadata": {},
   "outputs": [],
   "source": [
    "def json_query (extended_threat_profiles): \n",
    "    apt_list = []\n",
    "    ttp_list = {}\n",
    "    relationship_list = []\n",
    "    for g_code, t_code_list in extended_threat_profiles.items(): \n",
    "        # Get APTs based on its G-code\n",
    "        apt = src.query([Filter(\"external_references.external_id\", \"=\", g_code)])[0]\n",
    "        apt_list.append(apt)\n",
    "        # Get TTPs based on its T-code\n",
    "        for t_code, confidence in t_code_list.items():\n",
    "            if (not(t_code in ttp_list.keys())):\n",
    "                ttp = src.query([Filter(\"external_references.external_id\", \"=\", t_code)])[0]\n",
    "                ttp_list[t_code] = ttp\n",
    "            conf = confidence*100\n",
    "            conf = str(confidence) + '%'\n",
    "            \n",
    "            #Create relationships between every TTP and a given APT\n",
    "            relationship = Relationship(apt, conf, ttp_list[t_code])\n",
    "            relationship_list.append(relationship)\n",
    "    \n",
    "    return (apt_list, list(ttp_list.values()), relationship_list)\n",
    "    \n",
    "\n"
   ]
  },
  {
   "cell_type": "code",
   "execution_count": 116,
   "metadata": {},
   "outputs": [],
   "source": [
    "# Save the lists\n",
    "apt_sdo_list, ttp_sdo_list, relationship_sdo_list = json_query(extended_threat_profiles)"
   ]
  },
  {
   "cell_type": "code",
   "execution_count": 117,
   "metadata": {},
   "outputs": [],
   "source": [
    "# # Print all the APT names in the list\n",
    "# x = 0\n",
    "\n",
    "# for x in range(140):\n",
    "#     print(apt_sdo_list[x]['name'])\n",
    "#     x += 1"
   ]
  },
  {
   "cell_type": "code",
   "execution_count": 118,
   "metadata": {},
   "outputs": [
    {
     "name": "stdout",
     "output_type": "stream",
     "text": [
      "{\"type\": \"intrusion-set\", \"spec_version\": \"2.1\", \"id\": \"intrusion-set--c93fccb1-e8e8-42cf-ae33-2ad1d183913a\", \"created_by_ref\": \"identity--c78cb6e5-0c4b-4611-8297-d1b8b55e40b5\", \"created\": \"2017-05-31T21:32:03.807Z\", \"modified\": \"2022-08-23T15:30:44.196Z\", \"name\": \"Lazarus Group\", \"description\": \"[Lazarus Group](https://attack.mitre.org/groups/G0032) is a North Korean state-sponsored cyber threat group that has been attributed to the Reconnaissance General Bureau.(Citation: US-CERT HIDDEN COBRA June 2017)(Citation: Treasury North Korean Cyber Groups September 2019) The group has been active since at least 2009 and was reportedly responsible for the November 2014 destructive wiper attack against Sony Pictures Entertainment as part of a campaign named Operation Blockbuster by Novetta. Malware used by [Lazarus Group](https://attack.mitre.org/groups/G0032) correlates to other reported campaigns, including Operation Flame, Operation 1Mission, Operation Troy, DarkSeoul, and Ten Days of Rain. (Citation: Novetta Blockbuster)\\n\\nNorth Korean group definitions are known to have significant overlap, and some security researchers report all North Korean state-sponsored cyber activity under the name [Lazarus Group](https://attack.mitre.org/groups/G0032) instead of tracking clusters or subgroups, such as [Andariel](https://attack.mitre.org/groups/G0138), [APT37](https://attack.mitre.org/groups/G0067), [APT38](https://attack.mitre.org/groups/G0082), and [Kimsuky](https://attack.mitre.org/groups/G0094).   \", \"aliases\": [\"Lazarus Group\", \"Labyrinth Chollima\", \"HIDDEN COBRA\", \"Guardians of Peace\", \"ZINC\", \"NICKEL ACADEMY\"], \"external_references\": [{\"source_name\": \"mitre-attack\", \"url\": \"https://attack.mitre.org/groups/G0032\", \"external_id\": \"G0032\"}, {\"source_name\": \"Labyrinth Chollima\", \"description\": \"(Citation: CrowdStrike Labyrinth Chollima Feb 2022)\"}, {\"source_name\": \"ZINC\", \"description\": \"(Citation: Microsoft ZINC disruption Dec 2017)\"}, {\"source_name\": \"Lazarus Group\", \"description\": \"(Citation: Novetta Blockbuster)\"}, {\"source_name\": \"NICKEL ACADEMY\", \"description\": \"(Citation: Secureworks NICKEL ACADEMY Dec 2017)\"}, {\"source_name\": \"Guardians of Peace\", \"description\": \"(Citation: US-CERT HIDDEN COBRA June 2017)\"}, {\"source_name\": \"CrowdStrike Labyrinth Chollima Feb 2022\", \"description\": \"CrowdStrike. (2022, February 1). CrowdStrike Adversary Labyrinth Chollima. Retrieved February 1, 2022.\", \"url\": \"https://adversary.crowdstrike.com/en-US/adversary/labyrinth-chollima/\"}, {\"source_name\": \"Novetta Blockbuster\", \"description\": \"Novetta Threat Research Group. (2016, February 24). Operation Blockbuster: Unraveling the Long Thread of the Sony Attack. Retrieved February 25, 2016.\", \"url\": \"https://web.archive.org/web/20160226161828/https://www.operationblockbuster.com/wp-content/uploads/2016/02/Operation-Blockbuster-Report.pdf\"}, {\"source_name\": \"Secureworks NICKEL ACADEMY Dec 2017\", \"description\": \"Secureworks. (2017, December 15). Media Alert - Secureworks Discovers North Korean Cyber Threat Group, Lazarus, Spearphishing Financial Executives of Cryptocurrency Companies. Retrieved December 27, 2017.\", \"url\": \"https://www.secureworks.com/about/press/media-alert-secureworks-discovers-north-korean-cyber-threat-group-lazarus-spearphishing\"}, {\"source_name\": \"Microsoft ZINC disruption Dec 2017\", \"description\": \"Smith, B. (2017, December 19). Microsoft and Facebook disrupt ZINC malware attack to protect customers and the internet from ongoing cyberthreats. Retrieved December 20, 2017.\", \"url\": \"https://blogs.microsoft.com/on-the-issues/2017/12/19/microsoft-facebook-disrupt-zinc-malware-attack-protect-customers-internet-ongoing-cyberthreats/\"}, {\"source_name\": \"HIDDEN COBRA\", \"description\": \"The U.S. Government refers to malicious cyber activity by the North Korean government as HIDDEN COBRA.(Citation: US-CERT HIDDEN COBRA June 2017)(Citation: US-CERT HOPLIGHT Apr 2019)\"}, {\"source_name\": \"Treasury North Korean Cyber Groups September 2019\", \"description\": \"US Treasury . (2019, September 13). Treasury Sanctions North Korean State-Sponsored Malicious Cyber Groups. Retrieved September 29, 2021.\", \"url\": \"https://home.treasury.gov/news/press-releases/sm774\"}, {\"source_name\": \"US-CERT HIDDEN COBRA June 2017\", \"description\": \"US-CERT. (2017, June 13). Alert (TA17-164A) HIDDEN COBRA \\u2013 North Korea\\u2019s DDoS Botnet Infrastructure. Retrieved July 13, 2017.\", \"url\": \"https://www.us-cert.gov/ncas/alerts/TA17-164A\"}, {\"source_name\": \"US-CERT HOPLIGHT Apr 2019\", \"description\": \"US-CERT. (2019, April 10). MAR-10135536-8 \\u2013 North Korean Trojan: HOPLIGHT. Retrieved April 19, 2019.\", \"url\": \"https://www.us-cert.gov/ncas/analysis-reports/AR19-100A\"}], \"object_marking_refs\": [\"marking-definition--fa42a846-8d90-4e51-bc29-71d5b4802168\"], \"x_mitre_attack_spec_version\": \"2.1.0\", \"x_mitre_contributors\": [\"Kyaw Pyiyt Htet, @KyawPyiytHtet\", \"Dragos  Threat  Intelligence\"], \"x_mitre_deprecated\": false, \"x_mitre_domains\": [\"enterprise-attack\", \"ics-attack\"], \"x_mitre_modified_by_ref\": \"identity--c78cb6e5-0c4b-4611-8297-d1b8b55e40b5\", \"x_mitre_version\": \"3.1\"}\n",
      "{\"type\": \"attack-pattern\", \"spec_version\": \"2.1\", \"id\": \"attack-pattern--b8902400-e6c5-4ba2-95aa-2d35b442b118\", \"created_by_ref\": \"identity--c78cb6e5-0c4b-4611-8297-d1b8b55e40b5\", \"created\": \"2020-03-16T15:33:01.739Z\", \"modified\": \"2022-04-25T14:00:00.188Z\", \"name\": \"Encrypted Channel\", \"description\": \"Adversaries may employ a known encryption algorithm to conceal command and control traffic rather than relying on any inherent protections provided by a communication protocol. Despite the use of a secure algorithm, these implementations may be vulnerable to reverse engineering if secret keys are encoded and/or generated within malware samples/configuration files.\", \"kill_chain_phases\": [{\"kill_chain_name\": \"mitre-attack\", \"phase_name\": \"command-and-control\"}], \"external_references\": [{\"source_name\": \"mitre-attack\", \"url\": \"https://attack.mitre.org/techniques/T1573\", \"external_id\": \"T1573\"}, {\"source_name\": \"SANS Decrypting SSL\", \"description\": \"Butler, M. (2013, November). Finding Hidden Threats by Decrypting SSL. Retrieved April 5, 2016.\", \"url\": \"http://www.sans.org/reading-room/whitepapers/analyst/finding-hidden-threats-decrypting-ssl-34840\"}, {\"source_name\": \"SEI SSL Inspection Risks\", \"description\": \"Dormann, W. (2015, March 13). The Risks of SSL Inspection. Retrieved April 5, 2016.\", \"url\": \"https://insights.sei.cmu.edu/cert/2015/03/the-risks-of-ssl-inspection.html\"}, {\"source_name\": \"University of Birmingham C2\", \"description\": \"Gardiner, J.,  Cova, M., Nagaraja, S. (2014, February). Command & Control Understanding, Denying and Detecting. Retrieved April 20, 2016.\", \"url\": \"https://arxiv.org/ftp/arxiv/papers/1408/1408.1136.pdf\"}], \"object_marking_refs\": [\"marking-definition--fa42a846-8d90-4e51-bc29-71d5b4802168\"], \"x_mitre_attack_spec_version\": \"2.1.0\", \"x_mitre_data_sources\": [\"Network Traffic: Network Traffic Content\"], \"x_mitre_detection\": \"SSL/TLS inspection is one way of detecting command and control traffic within some encrypted communication channels.(Citation: SANS Decrypting SSL) SSL/TLS inspection does come with certain risks that should be considered before implementing to avoid potential security issues such as incomplete certificate validation.(Citation: SEI SSL Inspection Risks)\\n\\nIn general, analyze network data for uncommon data flows (e.g., a client sending significantly more data than it receives from a server). Processes utilizing the network that do not normally have network communication or have never been seen before are suspicious. Analyze packet contents to detect communications that do not follow the expected protocol behavior for the port that is being used.(Citation: University of Birmingham C2)\", \"x_mitre_domains\": [\"enterprise-attack\"], \"x_mitre_is_subtechnique\": false, \"x_mitre_modified_by_ref\": \"identity--c78cb6e5-0c4b-4611-8297-d1b8b55e40b5\", \"x_mitre_platforms\": [\"Linux\", \"macOS\", \"Windows\"], \"x_mitre_version\": \"1.0\"}\n",
      "{\"type\": \"relationship\", \"spec_version\": \"2.1\", \"id\": \"relationship--aa318f95-349f-4460-a5e7-bc153a1a518a\", \"created\": \"2023-04-01T15:25:44.484035Z\", \"modified\": \"2023-04-01T15:25:44.484035Z\", \"relationship_type\": \"1%\", \"source_ref\": \"intrusion-set--c93fccb1-e8e8-42cf-ae33-2ad1d183913a\", \"target_ref\": \"attack-pattern--b8902400-e6c5-4ba2-95aa-2d35b442b118\"}\n"
     ]
    }
   ],
   "source": [
    "json_query(extended_threat_profiles)\n",
    "\n",
    "# Print statements to verify that the query worked\n",
    "print(apt_sdo_list[0])\n",
    "print(ttp_sdo_list[0])\n",
    "print(relationship_sdo_list[0])"
   ]
  },
  {
   "cell_type": "code",
   "execution_count": 119,
   "metadata": {},
   "outputs": [],
   "source": [
    "# Global Database Driver Variable\n",
    "uri = \"neo4j+s://ae3c581e.databases.neo4j.io\"\n",
    "user = \"neo4j\"\n",
    "password = \"NIpuTQWR1jR_1EWwpCvZ-eu873ADJznwfrON5WiMwik\"\n",
    "\n",
    "driver = GraphDatabase.driver(uri, auth=(user, password))"
   ]
  },
  {
   "cell_type": "code",
   "execution_count": 120,
   "metadata": {},
   "outputs": [],
   "source": [
    "def keyCheck(dictionary, key):\n",
    "        if key in dictionary:\n",
    "            return dictionary[key]\n",
    "        else:\n",
    "            return None"
   ]
  },
  {
   "cell_type": "code",
   "execution_count": 127,
   "metadata": {},
   "outputs": [],
   "source": [
    "def addAPT(apt_sdo_list):\n",
    "    with driver.session(database=\"neo4j\") as session:\n",
    "        for elem in apt_sdo_list:\n",
    "            query = (\n",
    "                \"CREATE (p1:APT { spec_version: $spec_version, id: $id, created_by_ref: $created_by_ref, created: $created, modified: $modified, name: $name, description: $description, aliases: $aliases, external_references: $external_references}) \"\n",
    "                \"RETURN p1\"\n",
    "            )\n",
    "            result = session.run(query, spec_version = str(elem['spec_version']), id = str(elem['id']), created_by_ref = str(keyCheck(elem, 'created_by_ref')), created = str(keyCheck(elem, 'created')), modified = str(keyCheck(elem, 'modified')), name = str(keyCheck(elem, 'name')), description = str(keyCheck(elem, 'description')), aliases = str(keyCheck(elem, 'aliases')), external_references = str(keyCheck(elem, 'external_references')))\n",
    "            \n",
    "            # exRef = elem['external_references']\n",
    "            # if len(exRef) != 0:\n",
    "            #     query = (\n",
    "            #         \"MATCH (p1:APT) \"\n",
    "            #         \"WHERE p1.id = $id \"\n",
    "            #         \"MERGE (ex1:ExternalReference { source_name: $source_name})\"\n",
    "            #         \"  ON CREATE SET ex1.source_name = $source_name, ex1.url = $url, ex1.external_id = $external_id \"\n",
    "            #         \"CREATE (p1)-[:REFERENCES]->(ex1) \"\n",
    "            #         \"RETURN p1, ex1 \"\n",
    "            #     )\n",
    "            #     for ref in exRef:\n",
    "            #         result = session.run(query, id = elem['id'], source_name = keyCheck(ref, 'source_name'), url = keyCheck(ref, 'url'), external_id = keyCheck(ref, 'external_id'))"
   ]
  },
  {
   "cell_type": "code",
   "execution_count": 128,
   "metadata": {},
   "outputs": [],
   "source": [
    "def addTTP(ttp_sdo_list):\n",
    "        with driver.session(database=\"neo4j\") as session:\n",
    "            for elem in ttp_sdo_list:\n",
    "                query = (\n",
    "                    \"CREATE (p1:TTP { spec_version: $spec_version, id: $id, created_by_ref: $created_by_ref, created: $created, modified: $modified, name: $name, kill_chain_phases: $kill_chain_phases, external_references: $external_references, x_mitre_is_subtechnique: $x_mitre_is_subtechnique}) \"\n",
    "                    \"RETURN p1\"\n",
    "                )\n",
    "                result = session.run(query, spec_version = str(elem['spec_version']), id = str(elem['id']), created_by_ref = str(keyCheck(elem, 'created_by_ref')), created = str(keyCheck(elem, 'created')), modified = str(keyCheck(elem, 'modified')), name = str(keyCheck(elem, 'name')), kill_chain_phases = str(keyCheck(elem, 'kill_chain_phases')), external_references = str(keyCheck(elem, 'external_references')), x_mitre_is_subtechnique = bool(elem['x_mitre_is_subtechnique']))\n",
    "\n",
    "                # exRef = elem['external_references']\n",
    "                # if len(exRef) != 0:\n",
    "                #     query = (\n",
    "                #         \"MATCH (p1:attackPattern) \"\n",
    "                #         \"WHERE p1.id = $id \"\n",
    "                #         \"MERGE (ex1:ExternalReference { source_name: $source_name})\"\n",
    "                #         \"  ON CREATE SET ex1.source_name = $source_name, ex1.url = $url, ex1.external_id = $external_id \"\n",
    "                #         \"CREATE (p1)-[:REFERENCES]->(ex1) \"\n",
    "                #         \"RETURN p1, ex1 \"\n",
    "                #     )\n",
    "                #     for ref in exRef:\n",
    "                #         result = session.run(query, id = elem['id'], source_name = keyCheck(ref, 'source_name'), url = keyCheck(ref, 'url'), external_id = keyCheck(ref, 'external_id'))"
   ]
  },
  {
   "cell_type": "code",
   "execution_count": 130,
   "metadata": {},
   "outputs": [],
   "source": [
    "# Need to filter the relationships a little better -- I probably just need to query something in the GUI version\n",
    "# Probably could add something about the realtionship, tbh\n",
    "\n",
    "def addRelationship(relationship_sdo_list):\n",
    "    with driver.session(database=\"neo4j\") as session:\n",
    "            for elem in relationship_sdo_list:\n",
    "                query = (\n",
    "                    \"MATCH (a1: APT) \"\n",
    "                    \"WHERE a1.id = $sourceId \"\n",
    "                    \"MATCH (aP1: TTP) \"\n",
    "                    \"WHERE aP1.id = $targetId \"\n",
    "                    \"CREATE (a1)-[:USES { spec_version: $spec_version, id: $id, created_by_ref: $created_by_ref, created: $created, modified: $modified, relationship_type: $relationship_type, description: $description, source_ref: $source_ref, target_ref: $target_ref}]->(aP1) \"\n",
    "                    \"RETURN a1, aP1\"\n",
    "                )\n",
    "                result = session.run(query, sourceId = elem['source_ref'], targetId = elem['target_ref'], spec_version = str(elem['spec_version']), id = str(elem['id']), created_by_ref = str(keyCheck(elem, 'created_by_ref')), created = str(keyCheck(elem, 'created')), modified = str(keyCheck(elem, 'modified')), relationship_type = str(keyCheck(elem, 'relationship_type')), description = keyCheck(elem, 'description'), source_ref = str(keyCheck(elem, 'source_ref')), target_ref = str(keyCheck(elem, 'target_ref')))\n"
   ]
  },
  {
   "cell_type": "code",
   "execution_count": 131,
   "metadata": {},
   "outputs": [],
   "source": [
    "\n",
    "def buildDatabase(apt_sdo_list, ttp_sdo_list, relationship_sdo_list):\n",
    "    # Add the SDO nodes to the database\n",
    "    addAPT(apt_sdo_list)\n",
    "    addTTP(ttp_sdo_list)\n",
    "    addRelationship(relationship_sdo_list)\n",
    "    driver.close()\n",
    "    "
   ]
  },
  {
   "cell_type": "code",
   "execution_count": 132,
   "metadata": {},
   "outputs": [],
   "source": [
    "buildDatabase(apt_sdo_list, ttp_sdo_list, relationship_sdo_list)"
   ]
  },
  {
   "cell_type": "code",
   "execution_count": 126,
   "metadata": {},
   "outputs": [],
   "source": [
    "# Lowkey did not need this\n",
    "# I just used the GUI for the database\n",
    "\n",
    "# def clearDatabase():\n",
    "#     # Clear the database\n",
    "#     with driver.session() as session:\n",
    "#         result = session.run(\"MATCH (n) DETACH DELETE n\")\n",
    "\n",
    "#     #  Close the driver\n",
    "#     driver.close()"
   ]
  }
 ],
 "metadata": {
  "kernelspec": {
   "display_name": "Python 3 (ipykernel)",
   "language": "python",
   "name": "python3"
  },
  "language_info": {
   "codemirror_mode": {
    "name": "ipython",
    "version": 3
   },
   "file_extension": ".py",
   "mimetype": "text/x-python",
   "name": "python",
   "nbconvert_exporter": "python",
   "pygments_lexer": "ipython3",
   "version": "3.11.0"
  },
  "vscode": {
   "interpreter": {
    "hash": "bf4546b72c8f221321ebd81cfb6f77ad08fd1107692848c85b98477d65bf1073"
   }
  }
 },
 "nbformat": 4,
 "nbformat_minor": 4
}
