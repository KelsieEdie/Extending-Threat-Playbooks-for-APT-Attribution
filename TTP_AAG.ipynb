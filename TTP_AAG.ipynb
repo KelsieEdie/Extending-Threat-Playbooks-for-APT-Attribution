{
 "cells": [
  {
   "cell_type": "code",
   "execution_count": 102,
   "metadata": {},
   "outputs": [],
   "source": [
    "import numpy as np\n",
    "import matplotlib.pyplot as plt\n",
    "import pandas as pd\n",
    "from stix2.v21 import (ThreatActor, Identity, AttackPattern, Campaign, IntrusionSet, Relationship, ExternalReference, Bundle, Grouping)\n",
    "from efficient_apriori import apriori\n",
    "import re\n",
    "from pyattck import Attck\n",
    "import requests\n",
    "from stix2 import MemoryStore, Filter"
   ]
  },
  {
   "cell_type": "code",
   "execution_count": 103,
   "metadata": {},
   "outputs": [],
   "source": [
    "# Settings Values - for Apriori Algorithm\n",
    "# TODO - 2: Do we need to adjust these numbers, in order to refine our algorithm metrics??\n",
    "confidenceLevel = 0.70\n",
    "supportLevel = 0.05\n",
    "abstract = False"
   ]
  },
  {
   "cell_type": "code",
   "execution_count": 104,
   "metadata": {},
   "outputs": [],
   "source": [
    "def GenerateAprioriLists():\n",
    "    # TODO - 2: Do we need to retrain this data on a new dataset? How can we do this?\n",
    "    # Some data comes from this dataset with TTPs\n",
    "    df = pd.read_csv(\"datasets/Categorized_Adversary_TTPs.csv\") # sample dataset of attacks\n",
    "    \n",
    "    # More data is gained by using attck data from tool and malware TTPs\n",
    "    attack = Attck()\n",
    "    \n",
    "    malwares = attack.enterprise.malwares + attack.enterprise.tools\n",
    "    ttpLists = []\n",
    "    for malware in malwares:\n",
    "        ttpLists.append([\"'\" + ttp.id + \"'\" for ttp in malware.techniques])\n",
    "\n",
    "    # To use the apriori we need to generate a list of lists\n",
    "    aprList = ttpLists\n",
    "    for row in df.values:\n",
    "        aprList.append((row[13].strip('][').split(', ')))\n",
    "    return aprList"
   ]
  },
  {
   "cell_type": "code",
   "execution_count": 105,
   "metadata": {},
   "outputs": [],
   "source": [
    "def AbstractTTPs(ttpList):\n",
    "    # Take sub-techniques and remove the .### to abstract them to parent techniques \n",
    "    for i in range(0,len(ttpList)):\n",
    "        ttpList[i] = [re.sub(r'\\.[0-9]+', '', ttp) for ttp in ttpList[i]]\n",
    "    return ttpList "
   ]
  },
  {
   "cell_type": "code",
   "execution_count": 106,
   "metadata": {},
   "outputs": [],
   "source": [
    "# takes a list of lists and returns a list of rules sorted by size \n",
    "def AprioriMining(aprList):\n",
    "    # Perform apriori rule association mining\n",
    "    itemsets, rules = apriori(aprList, min_support=supportLevel, min_confidence=confidenceLevel)\n",
    "    \n",
    "    # Sort by size to get the 1:1 mappings first and so on. \n",
    "    ruleNums = np.array([len(rule.lhs+rule.rhs) for rule in rules])\n",
    "    rules = np.array(rules)\n",
    "    inds = ruleNums.argsort()[::]\n",
    "    rules = rules[inds]\n",
    "    \n",
    "    # Maximum rule size of 4 to limit number of rules, any rules with size > 4 are redundant anyways\n",
    "    rules = [x for x in filter(lambda rule: len(rule.lhs+rule.rhs) <= 4, rules)]\n",
    "    return rules"
   ]
  },
  {
   "cell_type": "code",
   "execution_count": 107,
   "metadata": {},
   "outputs": [],
   "source": [
    "# Downloads latest MITRE framework from the branch\n",
    "def get_data_from_branch(domain):\n",
    "    \"\"\"get the ATT&CK STIX data from MITRE/CTI. Domain should be 'enterprise-attack', 'mobile-attack' or 'ics-attack'. Branch should typically be master.\"\"\"\n",
    "    stix_json = requests.get(f\"https://raw.githubusercontent.com/mitre-attack/attack-stix-data/master/{domain}/{domain}.json\").json()\n",
    "    return MemoryStore(stix_data=stix_json[\"objects\"])\n",
    "\n",
    "src = get_data_from_branch(\"enterprise-attack\")"
   ]
  },
  {
   "cell_type": "code",
   "execution_count": 108,
   "metadata": {},
   "outputs": [],
   "source": [
    "# Get TTPs from seed, where seed is an APT group code: GXXXX\n",
    "def ExtractSeedTTPs(seed):\n",
    "    seeds = []\n",
    "    # This runs but says that \"actors\" is not found\n",
    "    actor = actors[seed]\n",
    "    for ttp in actor.techniques:\n",
    "        seeds.append(ttp.id)\n",
    "        \n",
    "    # If we are using abstracted TTPs then remove sub technique\n",
    "    if (abstract):\n",
    "        for i in range(0, len(seeds)):\n",
    "            seeds[i] = re.sub(r'\\.[0-9]+', '', seeds[i])\n",
    "    return seeds"
   ]
  },
  {
   "cell_type": "code",
   "execution_count": 109,
   "metadata": {},
   "outputs": [],
   "source": [
    "def ExportBundle(bundle, filename):\n",
    "    with open(filename, \"w\") as f:\n",
    "        f.write(bundle.serialize())\n",
    "        f.close()"
   ]
  },
  {
   "cell_type": "code",
   "execution_count": 110,
   "metadata": {},
   "outputs": [],
   "source": [
    "# Each rule has a confidence, lift, support, lhs, rhs, conviction, rule power factor (RPF), \n",
    "\n",
    "# Takes an APTGroup and generates hypothesized relationships and attack pattern objects\n",
    "# Returns a tuple of: (profile, attackPatterns, relationships, groupings)\n",
    "def CreateRelationships(seeds, aprioriLists):\n",
    "    profile = {} #stores the TTP and tactic for easy logging\n",
    "    seen = [] #stores TTPs that have been seen by the algorithm\n",
    "    attackPatterns = [] #stores generated attack pattern objects\n",
    "    relationships = {} # stores generated relationship objects\n",
    "    groupings = {} # stores generated grouping objects\n",
    "\n",
    "    # Get seeds out of the APT group\n",
    "    # seeds = ExtractSeedTTPs(APTGroup)\n",
    "    # seeds = [\"T1566\", \"T1204\"]\n",
    "    \n",
    "    # Perform Association Rule Mining\n",
    "    rules = AprioriMining(aprioriLists) \n",
    "    \n",
    "    # Add seeds to activity-attack-graph as nodes\n",
    "    for seed in seeds:\n",
    "        profile[seed] = 1\n",
    "        # Get the stix object for the TTP\n",
    "        ttp = src.query([ Filter(\"external_references.external_id\", \"=\", seed) ])[0]\n",
    "        \n",
    "        # Create and add objects to lists, context is used to identify seeds from hypothesized events\n",
    "        groupings[seed] = (Grouping(object_refs=[ttp.id], context = \"Seed Event\"))\n",
    "        attackPatterns.append(src.query([ Filter(\"external_references.external_id\", \"=\", seed) ])[0])\n",
    "    \n",
    "    # print(profile)\n",
    "    \n",
    "    seedTotals = [\"'\"+x+\"'\" for x in seeds]\n",
    "    # Use a queue to iterate through and create a tree of TTPs\n",
    "    while len(seeds) > 0:\n",
    "        for rule in rules:\n",
    "            # Check to see if the left hand side of a rule is satisfied \n",
    "            if \"'\"+seeds[0]+\"'\" in rule.lhs and set(rule.lhs).issubset(seedTotals):\n",
    "                # If the lhs is satisfied, then loop through each TTP in the rhs \n",
    "                for ttpName in rule.rhs:\n",
    "                    # If this TTP hasn't been visited already then create STIX objects\n",
    "                    if ttpName not in seen:\n",
    "                        ttp = src.query([ Filter(\"external_references.external_id\", \"=\", ttpName[1:-1]) ])[0]\n",
    "                        \n",
    "                        # rule tactics \n",
    "                        tactics = []\n",
    "                        for i in ttp['kill_chain_phases']:\n",
    "                            tactics.append(i['phase_name'])\n",
    "                        \n",
    "                        # create a new grouping object with the rule name. \n",
    "                        groupings[ttpName[1:-1]] = (Grouping(object_refs=[ttp.id], context = \"Hypothesized Event\"))\n",
    "                        \n",
    "                        attackPatterns.append(ttp)\n",
    "                        seedTotals.append(ttpName)\n",
    "                        seen.append(ttpName)\n",
    "                        seeds.append(ttp['external_references'][0]['external_id'])\n",
    "\n",
    "                    # if the relationship already exists between two objects then we take the one with higher confidence\n",
    "                    # make sure the exact relationship does not alraedy exist\n",
    "                    if not (groupings[seeds[0]]['id'], groupings[ttpName[1:-1]]['id']) in relationships:\n",
    "                        # if the opposite relationship exists then choose the one with the highest confidence to add\n",
    "                        # we do this because if we do not then on the graph there will be two arrows going opposite directions to connect the same 2 TTPs\n",
    "                        # this causes clutter and makes the confidence values unreadable since they will be layered on top of each other\n",
    "                        if (groupings[ttpName[1:-1]]['id'], groupings[seeds[0]]['id']) in relationships:\n",
    "                            # if existing relationship has higher confidence, move on\n",
    "                            if float(relationships[(groupings[ttpName[1:-1]]['id'], groupings[seeds[0]]['id'])]['relationship_type']) > rule.confidence:\n",
    "                                continue # move to next iteration of for loop, so code after this statement won't execute\n",
    "                            # if existing relationship has lower confidence, delete it and let the new relationship take it's place\n",
    "                            else:\n",
    "                                del relationships[(groupings[ttpName[1:-1]]['id'], groupings[seeds[0]]['id'])]\n",
    "                        relationships[(groupings[seeds[0]]['id'], groupings[ttpName[1:-1]]['id'])] = Relationship(groupings[seeds[0]]['id'], str(round(rule.confidence, 3)), groupings[ttpName[1:-1]]['id'])\n",
    "                        if not((ttpName[1:-1] in profile.keys() and profile[ttpName[1:-1]] >= 1)):\n",
    "                            profile[ttpName[1:-1]] = round(rule.confidence, 3)\n",
    " \n",
    "        # pop to progress the queue\n",
    "        seeds.pop(0) \n",
    "    \n",
    "    for seed in seeds:\n",
    "        profile[seed] = 1\n",
    "        \n",
    "\n",
    "    return (profile, attackPatterns, relationships, groupings)"
   ]
  },
  {
   "cell_type": "code",
   "execution_count": 111,
   "metadata": {},
   "outputs": [],
   "source": [
    "aprioriList = AbstractTTPs(GenerateAprioriLists()) # generate lists for apriori"
   ]
  },
  {
   "cell_type": "code",
   "execution_count": 112,
   "metadata": {},
   "outputs": [],
   "source": [
    "# \n",
    "intelSeed = [\"T1566\", \"T1204\"] # Use-case: Observed TTPs\n",
    "profile, attackPatterns, relationships, groupings = CreateRelationships(intelSeed, aprioriList)"
   ]
  },
  {
   "cell_type": "code",
   "execution_count": 113,
   "metadata": {},
   "outputs": [
    {
     "name": "stdout",
     "output_type": "stream",
     "text": [
      "{'T1566': 1, 'T1204': 1, 'T1059': 0.752, 'T1105': 0.74, 'T1027': 0.751, 'T1071': 0.778, 'T1082': 0.819, 'T1547': 0.745, 'T1140': 0.745, 'T1057': 0.753, 'T1083': 0.78, 'T1070': 0.7}\n"
     ]
    }
   ],
   "source": [
    "# Displays the results of the Apiori Algorithm \n",
    "print(profile)\n",
    "\n",
    "# This is the hypothesized profile\n",
    "apt_x = profile"
   ]
  },
  {
   "cell_type": "code",
   "execution_count": 114,
   "metadata": {},
   "outputs": [],
   "source": [
    "# Bundle STIX Objects for Visualization\n",
    "bundle = Bundle(attackPatterns+list(groupings.values())+list(relationships.values()), allow_custom=True)"
   ]
  },
  {
   "cell_type": "code",
   "execution_count": 115,
   "metadata": {},
   "outputs": [],
   "source": [
    "# Export bundle for visualization here: https://github.com/yukh1402/cti-stix-diamond-activity-attack-graph\n",
    "ExportBundle(bundle, \"test.json\")"
   ]
  },
  {
   "cell_type": "code",
   "execution_count": 116,
   "metadata": {},
   "outputs": [
    {
     "name": "stdout",
     "output_type": "stream",
     "text": [
      "{'T1114': 1, 'T1078': 1, 'T1566': 1, 'T1056': 1, 'T1204': 1, 'T1059': 1, 'T1564': 1, 'T1071': 1, 'T1090': 1}\n",
      "{'T1114': 1, 'T1078': 1, 'T1566': 1, 'T1056': 1, 'T1204': 1, 'T1059': 1, 'T1564': 1, 'T1071': 1, 'T1090': 1, 'T1105': 0.757, 'T1027': 0.745, 'T1547': 0.769, 'T1082': 0.776, 'T1083': 0.759, 'T1070': 0.714, 'T1057': 0.741, 'T1113': 0.704, 'T1033': 0.741, 'T1140': 0.719, 'T1016': 0.732}\n"
     ]
    }
   ],
   "source": [
    "# Phase 2: Make APT Threat Profiles\n",
    "attack = Attck()\n",
    "\n",
    "# Dictionary to hold all the threat profiles. \n",
    "# The key is a given APT and the values are a list of TTPs\n",
    "threat_profiles = {}\n",
    "\n",
    "for actor in attack.enterprise.actors:\n",
    "    technique_dict = {}\n",
    "    for technique in actor.techniques:\n",
    "        technique_dict[technique.id[0:5]] = 1\n",
    "    threat_profiles[actor.id] = technique_dict\n",
    "    \n",
    "print(threat_profiles[\"G0085\"])\n",
    "\n",
    "\n",
    "# TODO: Add extended_threat profiles\n",
    "# Create threatprofile Seed -- need to parse the value of the keys.\n",
    "extended_threat_profiles = {}\n",
    "for apt, t_codes in threat_profiles.items():\n",
    "    ttp_list = list(t_codes.keys())\n",
    "    profile, attackPatterns, relationships, groupings = CreateRelationships(ttp_list, aprioriList)\n",
    "    extended_threat_profiles[apt] = profile\n",
    "\n",
    "print(extended_threat_profiles[\"G0085\"])\n",
    "\n",
    "# TODO: Add progress bar??\n"
   ]
  },
  {
   "cell_type": "code",
   "execution_count": 117,
   "metadata": {},
   "outputs": [],
   "source": [
    "# Phase 2: WEIGHTED JACCARD SIMILARITY\n",
    "# Side note: Find a way to relate techniques and sub-techniques. \n",
    "\n",
    "# TODO: Create a function that compares two threat profiles and produces a Weighted Jaccard. Just returns a number. \n",
    "def weighted_jac (profile1, profile2):\n",
    "\n",
    "    # Extract the keys as sets\n",
    "    keys1 = set(profile1.keys())\n",
    "    keys2 = set(profile2.keys())\n",
    "\n",
    "    # Calculate the Jaccard index\n",
    "    # Only need the normal intersection and union\n",
    "    intersection = keys1.intersection(keys2)\n",
    "    union = keys1.union(keys2)\n",
    "    # jaccard_index = len(intersection) / len(union)\n",
    "\n",
    "    # Weight the Jaccard index by the values in the dictionaries\n",
    "    weighted_intersection = sum(min(profile1[k], profile2[k]) for k in intersection)\n",
    "    weighted_union = sum(max(profile1.get(k, 0), profile2.get(k, 0)) for k in union)\n",
    "    weighted_jaccard_index = weighted_intersection / weighted_union\n",
    "    \n",
    "    return weighted_jaccard_index\n",
    "    #print(\"Weighted Jaccard index:\", weighted_jaccard_index)\n",
    "\n",
    "\n",
    "# AAG APT\n",
    "#p1 = {'T1566': 0.836, 'T1204': 0.944, 'T1059': 0.752, 'T1105': 0.74, 'T1027': 0.751, 'T1071': 0.778, 'T1082': 0.819, 'T1547': 0.745, 'T1140': 0.745, 'T1057': 0.753, 'T1083': 0.78, 'T1070': 0.7}\n",
    "# Known APT: G0085\n",
    "#p2 = {'T1114': 1, 'T1078': 1, 'T1566': 1, 'T1056': 1, 'T1204': 1, 'T1059': 1, 'T1564': 1, 'T1071': 1, 'T1090': 1}\n",
    "\n",
    "# weighted_jac(p1, p2)"
   ]
  },
  {
   "cell_type": "code",
   "execution_count": 134,
   "metadata": {},
   "outputs": [],
   "source": [
    "# TODO: Create another function that calls the previous function on all of the threat profiles and our threat profile of interest.\n",
    "# We could do some sort of ranking like list the APTs with the highest Weighted Jaccard first. \n",
    "def compare_apt(h_threatprofile, threat_profiles):\n",
    "    # Make another dictionary \n",
    "    rankings = {}\n",
    "    \n",
    "    for key, value in threat_profiles.items(): \n",
    "        similarity  = (weighted_jac(value, h_threatprofile)) * 100\n",
    "        percentage = round(similarity, 2)\n",
    "        rankings[key] = percentage\n",
    "    \n",
    "    return rankings"
   ]
  },
  {
   "cell_type": "code",
   "execution_count": 136,
   "metadata": {},
   "outputs": [
    {
     "name": "stdout",
     "output_type": "stream",
     "text": [
      "{'G0103': 95.25, 'G0013': 95.25, 'G0062': 88.46, 'G0066': 77.53, 'G0133': 76.34, 'G0005': 76.12, 'G0137': 74.86, 'G0136': 74.58, 'G0084': 68.81, 'G0048': 67.98, 'G0075': 67.17, 'G0079': 66.87, 'G0130': 65.98, 'G0089': 64.23, 'G0090': 63.65, 'G0029': 62.7, 'G0107': 60.06, 'G0099': 59.36, 'G1007': 57.23, 'G0021': 57.11, 'G0140': 56.71, 'G0095': 56.61, 'G0112': 56.2, 'G0127': 55.46, 'G0024': 55.08, 'G0085': 54.76, 'G1003': 54.61, 'G0056': 53.58, 'G0078': 52.96, 'G0098': 52.91, 'G0070': 52.87, 'G0120': 52.36, 'G0134': 52.06, 'G1011': 51.52, 'G0018': 51.5, 'G0115': 51.42, 'G0138': 47.36, 'G0068': 46.96, 'G0086': 46.4, 'G0142': 46.25, 'G0041': 46.16, 'G0043': 45.71, 'G0019': 45.46, 'G0073': 45.23, 'G0044': 45.0, 'G0124': 44.93, 'G1008': 44.73, 'G0026': 42.57, 'G0131': 42.02, 'G1002': 41.53, 'G0036': 40.86, 'G1005': 40.81, 'G0071': 40.68, 'G0033': 40.25, 'G0119': 39.82, 'G0100': 39.07, 'G0121': 39.03, 'G0051': 38.8, 'G0009': 38.78, 'G0012': 38.32, 'G0052': 38.2, 'G0128': 38.0, 'G0008': 37.36, 'G0038': 36.87, 'G0054': 36.8, 'G0053': 36.72, 'G0126': 36.7, 'G0001': 35.46, 'G0028': 34.12, 'G0006': 33.53, 'G0143': 32.92, 'G0067': 32.66, 'G0064': 32.39, 'G0092': 32.39, 'G0061': 31.27, 'G0080': 31.17, 'G0105': 31.09, 'G1009': 30.95, 'G0091': 30.53, 'G0083': 30.53, 'G0020': 29.91, 'G0135': 29.44, 'G0077': 29.21, 'G0081': 28.13, 'G1001': 27.63, 'G0088': 26.92, 'G0129': 26.91, 'G0040': 26.84, 'G0060': 25.9, 'G0046': 25.67, 'G0082': 25.27, 'G1006': 25.05, 'G0125': 24.97, 'G0065': 24.59, 'G1004': 24.43, 'G0108': 24.13, 'G0037': 23.88, 'G0102': 23.74, 'G0106': 23.34, 'G0087': 23.09, 'G0002': 22.82, 'G0063': 22.82, 'G0045': 22.72, 'G0047': 22.39, 'G0022': 22.08, 'G0139': 22.0, 'G0049': 21.79, 'G0093': 21.2, 'G0069': 21.06, 'G0059': 20.87, 'G0004': 19.17, 'G0010': 19.04, 'G0027': 18.86, 'G0117': 18.74, 'G0035': 18.69, 'G0096': 18.09, 'G0050': 16.36, 'G0039': 16.08, 'G0118': 15.94, 'G0034': 15.87, 'G0094': 14.85, 'G0114': 14.59, 'G0016': 14.13, 'G0007': 13.82, 'G0032': 12.15, 'G0123': 11.37, 'G0003': 9.99, 'G0011': 6.48, 'G0076': 5.87, 'G0122': 3.75, 'G0014': 0.0, 'G0031': 0.0, 'G0072': 0.0, 'G0132': 0.0, 'G0104': 0.0, 'G0074': 0.0, 'G0116': 0.0, 'G0141': 0.0, 'G0101': 0.0, 'G0015': 0.0, 'G0055': 0.0, 'G0017': 0.0, 'G0023': 0.0, 'G0030': 0.0, 'G0025': 0.0, 'G0042': 0.0, 'G0057': 0.0}\n"
     ]
    }
   ],
   "source": [
    "compare_apt_dict = compare_apt(apt_x, extended_threat_profiles)\n",
    "\n",
    "# SORTED -- NICE!\n",
    "sorted_dict = dict(sorted(compare_apt_dict.items(), key=lambda x: x[1], reverse=True))\n",
    "print(sorted_dict)\n"
   ]
  },
  {
   "cell_type": "code",
   "execution_count": 137,
   "metadata": {},
   "outputs": [
    {
     "data": {
      "image/png": "[encoded data removed]",
      "text/plain": [
       "<Figure size 640x480 with 1 Axes>"
      ]
     },
     "metadata": {},
     "output_type": "display_data"
    }
   ],
   "source": [
    "# Make some sort of visualization\n",
    "import matplotlib.pyplot as plt\n",
    "\n",
    "# Example dictionary\n",
    "data = sorted_dict\n",
    "\n",
    "# Extract keys and values from dictionary\n",
    "labels = list(data.keys())\n",
    "values = list(data.values())\n",
    "\n",
    "# Create a bar chart using matplotlib\n",
    "plt.bar(labels, values)\n",
    "\n",
    "# Set chart title and axis labels\n",
    "plt.title('APT THANGS')\n",
    "plt.xlabel('APTs')\n",
    "plt.ylabel('Similarity (%)')\n",
    "\n",
    "# Display the chart\n",
    "plt.show()\n"
   ]
  },
  {
   "cell_type": "code",
   "execution_count": 120,
   "metadata": {},
   "outputs": [],
   "source": [
    "# Write the dictionary to a JSON file\n",
    "import json\n",
    "\n",
    "with open(\"Extended_Threat_Profiles\", \"w\") as outfile:\n",
    "    json.dump(extended_threat_profiles, outfile)\n",
    "    \n",
    "# Ahhhhh purrrrrr (pian)"
   ]
  }
 ],
 "metadata": {
  "kernelspec": {
   "display_name": "Python 3 (ipykernel)",
   "language": "python",
   "name": "python3"
  },
  "language_info": {
   "codemirror_mode": {
    "name": "ipython",
    "version": 3
   },
   "file_extension": ".py",
   "mimetype": "text/x-python",
   "name": "python",
   "nbconvert_exporter": "python",
   "pygments_lexer": "ipython3",
   "version": "3.11.0"
  },
  "vscode": {
   "interpreter": {
    "hash": "bf4546b72c8f221321ebd81cfb6f77ad08fd1107692848c85b98477d65bf1073"
   }
  }
 },
 "nbformat": 4,
 "nbformat_minor": 4
}
